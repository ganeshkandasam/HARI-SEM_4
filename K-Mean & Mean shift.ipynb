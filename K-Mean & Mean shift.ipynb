{
 "cells": [
  {
   "cell_type": "code",
   "execution_count": 1,
   "id": "638918ec",
   "metadata": {},
   "outputs": [],
   "source": [
    "import cv2 as cv\n",
    "import numpy as np"
   ]
  },
  {
   "cell_type": "markdown",
   "id": "c0136fa3",
   "metadata": {},
   "source": [
    " # read image"
   ]
  },
  {
   "cell_type": "code",
   "execution_count": 2,
   "id": "8ad07138",
   "metadata": {},
   "outputs": [],
   "source": [
    "img=cv.imread(\"hh.jfif\")"
   ]
  },
  {
   "cell_type": "markdown",
   "id": "41e6dcc5",
   "metadata": {},
   "source": [
    "# color conversation"
   ]
  },
  {
   "cell_type": "code",
   "execution_count": 3,
   "id": "33589765",
   "metadata": {},
   "outputs": [],
   "source": [
    "imgrgb = cv.cvtColor(img,cv.COLOR_BGR2RGB)"
   ]
  },
  {
   "cell_type": "markdown",
   "id": "b2708aac",
   "metadata": {},
   "source": [
    "# resize image "
   ]
  },
  {
   "cell_type": "code",
   "execution_count": 4,
   "id": "1367f58d",
   "metadata": {},
   "outputs": [],
   "source": [
    "vec = imgrgb.reshape((-1,3))"
   ]
  },
  {
   "cell_type": "code",
   "execution_count": 5,
   "id": "2019653e",
   "metadata": {},
   "outputs": [
    {
     "data": {
      "text/plain": [
       "array([[245,  65,  30],\n",
       "       [239,  59,  24],\n",
       "       [234,  50,  16],\n",
       "       ...,\n",
       "       [ 94, 146,  10],\n",
       "       [ 92, 143,  12],\n",
       "       [ 99, 150,  19]], dtype=uint8)"
      ]
     },
     "execution_count": 5,
     "metadata": {},
     "output_type": "execute_result"
    }
   ],
   "source": [
    "vec "
   ]
  },
  {
   "cell_type": "markdown",
   "id": "2c58f486",
   "metadata": {},
   "source": [
    "# Unit Conversion 8 to 32"
   ]
  },
  {
   "cell_type": "code",
   "execution_count": 6,
   "id": "1cff1c9e",
   "metadata": {},
   "outputs": [],
   "source": [
    "vecy = np.float32(vec)"
   ]
  },
  {
   "cell_type": "code",
   "execution_count": 7,
   "id": "de6e95ac",
   "metadata": {},
   "outputs": [
    {
     "data": {
      "text/plain": [
       "array([[245.,  65.,  30.],\n",
       "       [239.,  59.,  24.],\n",
       "       [234.,  50.,  16.],\n",
       "       ...,\n",
       "       [ 94., 146.,  10.],\n",
       "       [ 92., 143.,  12.],\n",
       "       [ 99., 150.,  19.]], dtype=float32)"
      ]
     },
     "execution_count": 7,
     "metadata": {},
     "output_type": "execute_result"
    }
   ],
   "source": [
    "vecy"
   ]
  },
  {
   "cell_type": "markdown",
   "id": "458b9223",
   "metadata": {},
   "source": [
    "# Iteration Termination Criteria"
   ]
  },
  {
   "cell_type": "code",
   "execution_count": 8,
   "id": "d5696fae",
   "metadata": {},
   "outputs": [],
   "source": [
    "criteria = (cv.TERM_CRITERIA_EPS + cv.TERM_CRITERIA_MAX_ITER, 100, 1)"
   ]
  },
  {
   "cell_type": "markdown",
   "id": "383ad4d1",
   "metadata": {},
   "source": [
    "# CLUSTER CONDITIONS"
   ]
  },
  {
   "cell_type": "code",
   "execution_count": 9,
   "id": "7c5bbd2c",
   "metadata": {},
   "outputs": [],
   "source": [
    "k = 3\n",
    "attempts = 100"
   ]
  },
  {
   "cell_type": "markdown",
   "id": "00a46286",
   "metadata": {},
   "source": [
    "# K-Means Clustering"
   ]
  },
  {
   "cell_type": "code",
   "execution_count": 10,
   "id": "70d38455",
   "metadata": {},
   "outputs": [],
   "source": [
    "compactness,label,center = cv.kmeans(vecy,k,None,criteria,attempts,cv.KMEANS_PP_CENTERS)"
   ]
  },
  {
   "cell_type": "code",
   "execution_count": 12,
   "id": "a11b791f",
   "metadata": {},
   "outputs": [
    {
     "data": {
      "text/plain": [
       "array([[190.32295 ,  50.44948 ,  37.94664 ],\n",
       "       [177.71924 , 161.60384 ,  52.783276],\n",
       "       [226.17155 , 180.40056 , 128.69289 ]], dtype=float32)"
      ]
     },
     "execution_count": 12,
     "metadata": {},
     "output_type": "execute_result"
    }
   ],
   "source": [
    "center"
   ]
  },
  {
   "cell_type": "markdown",
   "id": "0cacdf7d",
   "metadata": {},
   "source": [
    "# Unit Conversion 32 to 8"
   ]
  },
  {
   "cell_type": "code",
   "execution_count": 13,
   "id": "e5096f48",
   "metadata": {},
   "outputs": [],
   "source": [
    "centery = np.uint8(center)"
   ]
  },
  {
   "cell_type": "code",
   "execution_count": 14,
   "id": "95740a51",
   "metadata": {},
   "outputs": [
    {
     "data": {
      "text/plain": [
       "array([[190,  50,  37],\n",
       "       [177, 161,  52],\n",
       "       [226, 180, 128]], dtype=uint8)"
      ]
     },
     "execution_count": 14,
     "metadata": {},
     "output_type": "execute_result"
    }
   ],
   "source": [
    "centery"
   ]
  },
  {
   "cell_type": "markdown",
   "id": "e4f7610a",
   "metadata": {},
   "source": [
    "# Flattening and Reshape"
   ]
  },
  {
   "cell_type": "code",
   "execution_count": 15,
   "id": "5568059c",
   "metadata": {},
   "outputs": [],
   "source": [
    "res = centery[label.flatten()]\n",
    "res_img = res.reshape((imgrgb.shape)) "
   ]
  },
  {
   "cell_type": "code",
   "execution_count": 16,
   "id": "ce58bb6e",
   "metadata": {},
   "outputs": [
    {
     "data": {
      "text/plain": [
       "array([[[190,  50,  37],\n",
       "        [190,  50,  37],\n",
       "        [190,  50,  37],\n",
       "        ...,\n",
       "        [226, 180, 128],\n",
       "        [226, 180, 128],\n",
       "        [226, 180, 128]],\n",
       "\n",
       "       [[190,  50,  37],\n",
       "        [190,  50,  37],\n",
       "        [190,  50,  37],\n",
       "        ...,\n",
       "        [226, 180, 128],\n",
       "        [226, 180, 128],\n",
       "        [226, 180, 128]],\n",
       "\n",
       "       [[190,  50,  37],\n",
       "        [190,  50,  37],\n",
       "        [190,  50,  37],\n",
       "        ...,\n",
       "        [226, 180, 128],\n",
       "        [226, 180, 128],\n",
       "        [226, 180, 128]],\n",
       "\n",
       "       ...,\n",
       "\n",
       "       [[177, 161,  52],\n",
       "        [177, 161,  52],\n",
       "        [177, 161,  52],\n",
       "        ...,\n",
       "        [177, 161,  52],\n",
       "        [177, 161,  52],\n",
       "        [177, 161,  52]],\n",
       "\n",
       "       [[177, 161,  52],\n",
       "        [177, 161,  52],\n",
       "        [177, 161,  52],\n",
       "        ...,\n",
       "        [177, 161,  52],\n",
       "        [177, 161,  52],\n",
       "        [177, 161,  52]],\n",
       "\n",
       "       [[177, 161,  52],\n",
       "        [177, 161,  52],\n",
       "        [177, 161,  52],\n",
       "        ...,\n",
       "        [177, 161,  52],\n",
       "        [177, 161,  52],\n",
       "        [177, 161,  52]]], dtype=uint8)"
      ]
     },
     "execution_count": 16,
     "metadata": {},
     "output_type": "execute_result"
    }
   ],
   "source": [
    "res_img"
   ]
  },
  {
   "cell_type": "markdown",
   "id": "0bba93ba",
   "metadata": {},
   "source": [
    "# Display the Original and Segmented image"
   ]
  },
  {
   "cell_type": "code",
   "execution_count": 19,
   "id": "0c234eb5",
   "metadata": {},
   "outputs": [],
   "source": [
    "cv.imshow('Original',img)\n",
    "cv.imshow('Segmented',res_img)\n",
    "cv.waitKey(0)\n",
    "cv.destroyAllWindows()"
   ]
  },
  {
   "cell_type": "code",
   "execution_count": null,
   "id": "977bbec7",
   "metadata": {},
   "outputs": [],
   "source": []
  },
  {
   "cell_type": "markdown",
   "id": "427cbf97",
   "metadata": {},
   "source": [
    "# Image Mean Shift Segmentation"
   ]
  },
  {
   "cell_type": "code",
   "execution_count": 24,
   "id": "1a4d129e",
   "metadata": {},
   "outputs": [],
   "source": [
    "# Apply mean shift segmentation\n",
    "segmented_image = cv.pyrMeanShiftFiltering(img,40,40)\n",
    "\n",
    "# Display the segmentated image\n",
    "cv.imshow('Original',img)\n",
    "cv.imshow('Segmented_image',segmented_image)\n",
    "cv.waitKey(0)\n",
    "cv.destroyAllWindows()"
   ]
  },
  {
   "cell_type": "code",
   "execution_count": null,
   "id": "564c219b",
   "metadata": {},
   "outputs": [],
   "source": []
  }
 ],
 "metadata": {
  "kernelspec": {
   "display_name": "Python 3 (ipykernel)",
   "language": "python",
   "name": "python3"
  },
  "language_info": {
   "codemirror_mode": {
    "name": "ipython",
    "version": 3
   },
   "file_extension": ".py",
   "mimetype": "text/x-python",
   "name": "python",
   "nbconvert_exporter": "python",
   "pygments_lexer": "ipython3",
   "version": "3.9.7"
  }
 },
 "nbformat": 4,
 "nbformat_minor": 5
}
