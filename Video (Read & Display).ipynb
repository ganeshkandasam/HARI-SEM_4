{
 "cells": [
  {
   "cell_type": "markdown",
   "id": "ae0120b2",
   "metadata": {},
   "source": [
    "# Importing libraries"
   ]
  },
  {
   "cell_type": "code",
   "execution_count": null,
   "id": "0a84ed3a",
   "metadata": {},
   "outputs": [],
   "source": [
    "import cv2 as cv\n",
    "import numpy as np"
   ]
  },
  {
   "cell_type": "markdown",
   "id": "140b86e4",
   "metadata": {},
   "source": [
    "# Video Reader"
   ]
  },
  {
   "cell_type": "code",
   "execution_count": null,
   "id": "56221608",
   "metadata": {},
   "outputs": [],
   "source": [
    "view = cv.VideoCapture(\"Video.mp4\")"
   ]
  },
  {
   "cell_type": "code",
   "execution_count": null,
   "id": "698e3307",
   "metadata": {},
   "outputs": [],
   "source": [
    "view"
   ]
  },
  {
   "cell_type": "code",
   "execution_count": null,
   "id": "dae60e5b",
   "metadata": {},
   "outputs": [],
   "source": [
    "print(view)"
   ]
  },
  {
   "cell_type": "markdown",
   "id": "42ea3459",
   "metadata": {},
   "source": [
    "# Display the Video"
   ]
  },
  {
   "cell_type": "code",
   "execution_count": null,
   "id": "6a151861",
   "metadata": {},
   "outputs": [],
   "source": [
    "while (view.isOpened()):\n",
    "    ret, frame = view.read()\n",
    "   \n",
    "# if frame is read correctly ret is ture\n",
    "    if not ret:\n",
    "        print(\"Can't receive frame (stream end?). Exiting ....\")\n",
    "        \n",
    "    cv.imshow('orign',frame)\n",
    "    if cv.waitKey(1) & 0xFF == ord('q'):\n",
    "        break\n",
    "        \n",
    "view.release()\n",
    "cv.destroyAllWindows()"
   ]
  },
  {
   "cell_type": "markdown",
   "id": "dfb19457",
   "metadata": {},
   "source": [
    "# Video - Colour to Grey Code"
   ]
  },
  {
   "cell_type": "code",
   "execution_count": null,
   "id": "12f0e523",
   "metadata": {},
   "outputs": [],
   "source": [
    "while (view.isOpened()):\n",
    "    ret, frame = view.read()\n",
    "   \n",
    "    gray = cv.cvtColor(frame,cv.COLOR_BGR2GRAY)\n",
    "    \n",
    "# if frame is read correctly ret is ture\n",
    "    if not ret:\n",
    "        print(\"Can't receive frame (stream end?). Exiting ....\")\n",
    "        \n",
    "    cv.imshow('orign',frame)\n",
    "# Display the Gray code \n",
    "    cv.imshow('Gray',gray)\n",
    "    if cv.waitKey(1) & 0xFF == ord('q'):\n",
    "        break\n",
    "        \n",
    "view.release()\n",
    "cv.destroyAllWindows()"
   ]
  },
  {
   "cell_type": "code",
   "execution_count": null,
   "id": "187d3443",
   "metadata": {},
   "outputs": [],
   "source": []
  }
 ],
 "metadata": {
  "kernelspec": {
   "display_name": "Python 3 (ipykernel)",
   "language": "python",
   "name": "python3"
  },
  "language_info": {
   "codemirror_mode": {
    "name": "ipython",
    "version": 3
   },
   "file_extension": ".py",
   "mimetype": "text/x-python",
   "name": "python",
   "nbconvert_exporter": "python",
   "pygments_lexer": "ipython3",
   "version": "3.9.7"
  }
 },
 "nbformat": 4,
 "nbformat_minor": 5
}
