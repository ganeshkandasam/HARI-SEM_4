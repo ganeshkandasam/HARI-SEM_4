{
 "cells": [
  {
   "cell_type": "markdown",
   "id": "f1b1e20c",
   "metadata": {},
   "source": [
    "# Importing Libraries"
   ]
  },
  {
   "cell_type": "code",
   "execution_count": 1,
   "id": "024af43d",
   "metadata": {},
   "outputs": [],
   "source": [
    "import cv2 as cv\n",
    "import numpy as np"
   ]
  },
  {
   "cell_type": "markdown",
   "id": "e6c68c7a",
   "metadata": {},
   "source": [
    "# Webcam Capture"
   ]
  },
  {
   "cell_type": "code",
   "execution_count": 2,
   "id": "12cc942e",
   "metadata": {},
   "outputs": [],
   "source": [
    "vid = cv.VideoCapture(0)"
   ]
  },
  {
   "cell_type": "markdown",
   "id": "93b31e23",
   "metadata": {},
   "source": [
    "# Webcam Display"
   ]
  },
  {
   "cell_type": "code",
   "execution_count": 3,
   "id": "17415bec",
   "metadata": {},
   "outputs": [],
   "source": [
    "while (vid.isOpened()):\n",
    "    ret, frame = vid.read()\n",
    "   \n",
    "    gray = cv.cvtColor(frame,cv.COLOR_BGR2GRAY)\n",
    "    \n",
    "# if frame is read correctly ret is ture\n",
    "    if not ret:\n",
    "        print(\"Can't receive frame (stream end?). Exiting ....\")\n",
    "        \n",
    "    cv.imshow('orign',frame)\n",
    "# Display the Gray code \n",
    "    cv.imshow('Gray',gray)\n",
    "    if cv.waitKey(1) & 0xFF == ord('q'):\n",
    "        break\n",
    "        \n",
    "vid.release()\n",
    "cv.destroyAllWindows()"
   ]
  },
  {
   "cell_type": "markdown",
   "id": "a19d418d",
   "metadata": {},
   "source": [
    "# Saving Video"
   ]
  },
  {
   "cell_type": "markdown",
   "id": "4b58f996",
   "metadata": {},
   "source": [
    "# Defining Codec"
   ]
  },
  {
   "cell_type": "code",
   "execution_count": 5,
   "id": "5d73fce8",
   "metadata": {},
   "outputs": [],
   "source": [
    "fourcc = cv.VideoWriter_fourcc(*'mp4v')"
   ]
  },
  {
   "cell_type": "markdown",
   "id": "4ba52c69",
   "metadata": {},
   "source": [
    "# Video Writer"
   ]
  },
  {
   "cell_type": "code",
   "execution_count": 6,
   "id": "a7a929e8",
   "metadata": {},
   "outputs": [],
   "source": [
    "wrt = cv.VideoWriter('save_by_me.mp4',fourcc,50.0,(640,480))"
   ]
  },
  {
   "cell_type": "code",
   "execution_count": 10,
   "id": "46658a7d",
   "metadata": {},
   "outputs": [],
   "source": [
    "while(vid.isOpened()):\n",
    "    ret, frame = vid.read()\n",
    "    \n",
    "    wrt.write(frame)\n",
    "    \n",
    "    cv.imshow('frame',frame)\n",
    "    if cv.waitKey(1) & 0xFF == ord('e'):\n",
    "        break\n",
    "        \n",
    "vid.release()\n",
    "wrt.release()\n",
    "cv.destroyAllWindows()        "
   ]
  },
  {
   "cell_type": "code",
   "execution_count": null,
   "id": "ed6b9b5d",
   "metadata": {},
   "outputs": [],
   "source": []
  }
 ],
 "metadata": {
  "kernelspec": {
   "display_name": "Python 3 (ipykernel)",
   "language": "python",
   "name": "python3"
  },
  "language_info": {
   "codemirror_mode": {
    "name": "ipython",
    "version": 3
   },
   "file_extension": ".py",
   "mimetype": "text/x-python",
   "name": "python",
   "nbconvert_exporter": "python",
   "pygments_lexer": "ipython3",
   "version": "3.9.7"
  }
 },
 "nbformat": 4,
 "nbformat_minor": 5
}
